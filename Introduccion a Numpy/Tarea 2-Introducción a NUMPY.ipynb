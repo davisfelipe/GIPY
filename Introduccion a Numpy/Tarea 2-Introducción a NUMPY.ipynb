{
 "cells": [
  {
   "cell_type": "markdown",
   "metadata": {},
   "source": [
    "# Taller de introdución a NUMPY\n",
    "\n",
    "**Nombre:** David Felipe Peña Huertas  \n",
    "**Codigo:** 20132020018"
   ]
  },
  {
   "cell_type": "markdown",
   "metadata": {},
   "source": [
    "## 1. Resumen\n",
    "### ¿Que hace NUMPY?\n",
    "Numpy es una libreria de python de motivo matematico que se especializa en la parte de manejo de arreglos N-dimensionales, dicha ventaja caracteristica de la libreria permite que el manejo de dichos arreglos simples o multidimensionales se vuelvan bastante tratables en cuanto a la logica de su aplicación.\n",
    "### ¿Qué usos se le da en el ámbito científico (Aplicaciones)?\n",
    "Las aplicaciones principales de la libreria de numpy van principalmente al tratamiento de datos, usualmente se trabaja para realizar el tratamiento de datos, principalmente para usos basicos, para *algebra lineal*, adicionalmente para temas avanzados se maneja para *tratamiento de datos*, *procesamiento de señales*, *procesamiento de imagenes*.\n",
    "### Historia\n",
    "NUMPY lanzado aproximadamente en el año 2005 por *Travis Oliphant*, donde la biblioteca fue un desarrollo de una version anterior denominada **Numeric** lanzada por Jim Hugunin \n",
    "### Describir 3 funciones/operaciones que no se hayan mencionado en la sesión presencial\n",
    "1. **numpy.invert:** En operaciones de binarios, retorna la forma invertida de dicho numero binario, como ejemplo del numero binario '*1110101*' la operacion retornaria '*0001010*'.\n",
    "2. **numpy.vstack:** Permite unir verticalmente de arreglos de tamaño N, ejemplo si se tienen los arreglos [1,2,3] y [4,5,6] la operaciones *vstack* entre ellos retornaria [[1,2,3],[4,5,6]] \n",
    "3. **numpy.geomspace:** Genera numeros de un punto de inicio a un punto final, de tal forma que los pasos entre estos numeros crecen logaritmicamente, dependiendo si se le pasa el paramero por default o el parametro de determinados pasos   \n",
    "\n",
    "~~~~{.python}\n",
    "np.geomspace(1,256,num=9)\n",
    "array([  1,   2,   4,   8,  16,  32,  64, 128, 256])\n",
    "~~~~"
   ]
  },
  {
   "cell_type": "code",
   "execution_count": 1,
   "metadata": {},
   "outputs": [],
   "source": [
    "#Importar librerias\n",
    "import numpy as np"
   ]
  },
  {
   "cell_type": "markdown",
   "metadata": {},
   "source": [
    "## Ejercicios\n",
    "### Ejercicios Rapidos"
   ]
  },
  {
   "cell_type": "code",
   "execution_count": 2,
   "metadata": {},
   "outputs": [
    {
     "data": {
      "text/plain": [
       "array([[  34,   23,  546,  788],\n",
       "       [  12, 1099,  434,  214],\n",
       "       [1234, 5454, 6466, 2323],\n",
       "       [2332,  657,  896,   53]])"
      ]
     },
     "metadata": {},
     "output_type": "display_data"
    },
    {
     "data": {
      "text/plain": [
       "array([[ 0,  1,  2,  3],\n",
       "       [ 4,  5,  6,  7],\n",
       "       [ 8,  9, 10, 11]])"
      ]
     },
     "metadata": {},
     "output_type": "display_data"
    }
   ],
   "source": [
    "matrizPrueba = np.array([[34,23,546,788],[12,1099,434,214],[1234,5454,6466,2323],[2332,657,896,53]])\n",
    "matrizB = np.arange(12).reshape((3,4))\n",
    "display(matrizPrueba)\n",
    "display(matrizB)"
   ]
  },
  {
   "cell_type": "markdown",
   "metadata": {},
   "source": [
    "#### ¿Cuál es el índice para el elemento 5454?"
   ]
  },
  {
   "cell_type": "code",
   "execution_count": 3,
   "metadata": {},
   "outputs": [
    {
     "data": {
      "text/plain": [
       "5454"
      ]
     },
     "metadata": {},
     "output_type": "display_data"
    }
   ],
   "source": [
    "display(matrizPrueba[2,1])"
   ]
  },
  {
   "cell_type": "markdown",
   "metadata": {},
   "source": [
    "#### \"Rebane\" la matriz matrizPrueba de forma que seleccione las filas pares y todas sus columnas"
   ]
  },
  {
   "cell_type": "code",
   "execution_count": 4,
   "metadata": {},
   "outputs": [
    {
     "data": {
      "text/plain": [
       "array([[  12, 1099,  434,  214],\n",
       "       [2332,  657,  896,   53]])"
      ]
     },
     "metadata": {},
     "output_type": "display_data"
    }
   ],
   "source": [
    "display(matrizPrueba[1::2])"
   ]
  },
  {
   "cell_type": "markdown",
   "metadata": {},
   "source": [
    "#### Sacar la raíz cuadrada de los valores de la matriz B"
   ]
  },
  {
   "cell_type": "code",
   "execution_count": 5,
   "metadata": {},
   "outputs": [
    {
     "data": {
      "text/plain": [
       "array([[0.        , 1.        , 1.41421356, 1.73205081],\n",
       "       [2.        , 2.23606798, 2.44948974, 2.64575131],\n",
       "       [2.82842712, 3.        , 3.16227766, 3.31662479]])"
      ]
     },
     "metadata": {},
     "output_type": "display_data"
    }
   ],
   "source": [
    "display(np.sqrt(matrizB))"
   ]
  },
  {
   "cell_type": "markdown",
   "metadata": {},
   "source": [
    "#### Cree una matriz de 4x4 y haga su transpuesta"
   ]
  },
  {
   "cell_type": "code",
   "execution_count": 6,
   "metadata": {},
   "outputs": [
    {
     "data": {
      "text/plain": [
       "'Matriz'"
      ]
     },
     "metadata": {},
     "output_type": "display_data"
    },
    {
     "data": {
      "text/plain": [
       "array([[ 0,  1,  2,  3],\n",
       "       [ 4,  5,  6,  7],\n",
       "       [ 8,  9, 10, 11],\n",
       "       [12, 13, 14, 15]])"
      ]
     },
     "metadata": {},
     "output_type": "display_data"
    },
    {
     "data": {
      "text/plain": [
       "'Matriz transpuesta:'"
      ]
     },
     "metadata": {},
     "output_type": "display_data"
    },
    {
     "data": {
      "text/plain": [
       "array([[ 0,  4,  8, 12],\n",
       "       [ 1,  5,  9, 13],\n",
       "       [ 2,  6, 10, 14],\n",
       "       [ 3,  7, 11, 15]])"
      ]
     },
     "metadata": {},
     "output_type": "display_data"
    }
   ],
   "source": [
    "matriz=np.arange(16).reshape((4,4))\n",
    "display(\"Matriz\",matriz)\n",
    "display(\"Matriz transpuesta:\",matriz.transpose())"
   ]
  },
  {
   "cell_type": "markdown",
   "metadata": {},
   "source": [
    "### Escriba un programa para crear un arreglo de dimensión 10x4 y extraiga las primeras 3 filas de ese arreglo y guardelas en una variable llamada slice."
   ]
  },
  {
   "cell_type": "code",
   "execution_count": 7,
   "metadata": {},
   "outputs": [
    {
     "data": {
      "text/plain": [
       "array([[ 0,  1,  2,  3],\n",
       "       [ 4,  5,  6,  7],\n",
       "       [ 8,  9, 10, 11],\n",
       "       [12, 13, 14, 15],\n",
       "       [16, 17, 18, 19],\n",
       "       [20, 21, 22, 23],\n",
       "       [24, 25, 26, 27],\n",
       "       [28, 29, 30, 31],\n",
       "       [32, 33, 34, 35],\n",
       "       [36, 37, 38, 39]])"
      ]
     },
     "metadata": {},
     "output_type": "display_data"
    },
    {
     "data": {
      "text/plain": [
       "array([[ 0,  1,  2,  3],\n",
       "       [ 4,  5,  6,  7],\n",
       "       [ 8,  9, 10, 11],\n",
       "       [12, 13, 14, 15]])"
      ]
     },
     "metadata": {},
     "output_type": "display_data"
    }
   ],
   "source": [
    "matriz=np.arange(40).reshape((10,4))\n",
    "display(matriz)\n",
    "slice=matriz[0:4]\n",
    "display(slice)"
   ]
  },
  {
   "cell_type": "markdown",
   "metadata": {},
   "source": [
    "### Escriba un programa donde declare dos vectores (Arreglos unidimensionales) con valores aleatorios y luego use una función de la libreria para verificar si esos dos vectores son iguales."
   ]
  },
  {
   "cell_type": "code",
   "execution_count": 8,
   "metadata": {},
   "outputs": [
    {
     "data": {
      "text/plain": [
       "False"
      ]
     },
     "metadata": {},
     "output_type": "display_data"
    }
   ],
   "source": [
    "array1=np.random.randint(20,size=10)\n",
    "array2=np.random.randint(20,size=10)\n",
    "display(np.array_equal(array1,array2))"
   ]
  },
  {
   "cell_type": "markdown",
   "metadata": {},
   "source": [
    "### Cree una matriz de 6x6 cuya diagonal sea [1,2,3,4,5,6] e imprima la matriz"
   ]
  },
  {
   "cell_type": "code",
   "execution_count": 9,
   "metadata": {},
   "outputs": [
    {
     "data": {
      "text/plain": [
       "array([[1, 0, 0, 0, 0, 0],\n",
       "       [0, 2, 0, 0, 0, 0],\n",
       "       [0, 0, 3, 0, 0, 0],\n",
       "       [0, 0, 0, 4, 0, 0],\n",
       "       [0, 0, 0, 0, 5, 0],\n",
       "       [0, 0, 0, 0, 0, 6]])"
      ]
     },
     "metadata": {},
     "output_type": "display_data"
    }
   ],
   "source": [
    "display(np.diag(np.arange(1,7)))"
   ]
  },
  {
   "cell_type": "markdown",
   "metadata": {},
   "source": [
    "### Investigue el método dot de la libreria Numpy y realice una multiplicación de matrices, La primera matriz debe ser de tamaño 5x3 y la otra matriz de 3x2."
   ]
  },
  {
   "cell_type": "code",
   "execution_count": 10,
   "metadata": {},
   "outputs": [
    {
     "data": {
      "text/plain": [
       "'Matriz A'"
      ]
     },
     "metadata": {},
     "output_type": "display_data"
    },
    {
     "data": {
      "text/plain": [
       "array([[ 1, 11, 15],\n",
       "       [17,  4, 19],\n",
       "       [ 6,  7,  9],\n",
       "       [ 8,  7, 19],\n",
       "       [ 3,  6, 11]])"
      ]
     },
     "metadata": {},
     "output_type": "display_data"
    },
    {
     "data": {
      "text/plain": [
       "'Matriz B'"
      ]
     },
     "metadata": {},
     "output_type": "display_data"
    },
    {
     "data": {
      "text/plain": [
       "array([[19,  7],\n",
       "       [ 3,  1],\n",
       "       [ 3, 13]])"
      ]
     },
     "metadata": {},
     "output_type": "display_data"
    },
    {
     "data": {
      "text/plain": [
       "'Multiplicacion de matrices'"
      ]
     },
     "metadata": {},
     "output_type": "display_data"
    },
    {
     "data": {
      "text/plain": [
       "array([[ 97, 213],\n",
       "       [392, 370],\n",
       "       [162, 166],\n",
       "       [230, 310],\n",
       "       [108, 170]])"
      ]
     },
     "metadata": {},
     "output_type": "display_data"
    }
   ],
   "source": [
    "#Metodo dot retorna la multiplicacion punto a punto de dos arreglos, en el caso de matrices bidimensionales,\n",
    "#retorna la multiplicación de dichas matrices.\n",
    "matrizA=np.random.randint(20,size=15).reshape(5,3)\n",
    "matrizB=np.random.randint(20,size=6).reshape(3,2)\n",
    "display(\"Matriz A\",matrizA)\n",
    "display(\"Matriz B\",matrizB)\n",
    "display(\"Multiplicacion de matrices\",np.dot(matrizA,matrizB))"
   ]
  }
 ],
 "metadata": {
  "kernelspec": {
   "display_name": "Python 2",
   "language": "python",
   "name": "python2"
  },
  "language_info": {
   "codemirror_mode": {
    "name": "ipython",
    "version": 2
   },
   "file_extension": ".py",
   "mimetype": "text/x-python",
   "name": "python",
   "nbconvert_exporter": "python",
   "pygments_lexer": "ipython2",
   "version": "2.7.15"
  }
 },
 "nbformat": 4,
 "nbformat_minor": 2
}
