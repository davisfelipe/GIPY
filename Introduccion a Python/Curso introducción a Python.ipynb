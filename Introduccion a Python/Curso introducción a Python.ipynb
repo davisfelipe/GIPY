{
 "cells": [
  {
   "cell_type": "markdown",
   "metadata": {},
   "source": [
    "# Curso de introducción a Python\n",
    "### Datos\n",
    "* David Felipe Peña Huertas\n",
    "* 20132020018\n",
    "* dfph1996@gmail.com\n",
    "## Ejercicios"
   ]
  },
  {
   "cell_type": "markdown",
   "metadata": {},
   "source": [
    "1. Mándale un saludo al mundo. Escribe un programa que reciba un nombre e imprima un hola mundo, pero que también contenga el mensaje: “soy nombre,¿Cómo estás?”"
   ]
  },
  {
   "cell_type": "code",
   "execution_count": 1,
   "metadata": {},
   "outputs": [
    {
     "name": "stdout",
     "output_type": "stream",
     "text": [
      "Como te llamas? david\n"
     ]
    },
    {
     "data": {
      "text/plain": [
       "'Hola mundo, soy David'"
      ]
     },
     "metadata": {},
     "output_type": "display_data"
    }
   ],
   "source": [
    "nombre=raw_input(\"Como te llamas? \")\n",
    "display(\"Hola mundo, soy \"+nombre.capitalize())"
   ]
  },
  {
   "cell_type": "markdown",
   "metadata": {},
   "source": [
    " 2. Escribe un programa que reciba dos números y los sume, los reste, los multiplique,realice una división entera y una división con resultado decimal sobre ellos, además de mostrar el residuo de la división."
   ]
  },
  {
   "cell_type": "code",
   "execution_count": 4,
   "metadata": {},
   "outputs": [
    {
     "name": "stdout",
     "output_type": "stream",
     "text": [
      "Ingresa el valor 1: 90\n",
      "Ingresa el valor 2: 5\n"
     ]
    },
    {
     "data": {
      "text/plain": [
       "'(Division entera, Residuo de la division)'"
      ]
     },
     "metadata": {},
     "output_type": "display_data"
    },
    {
     "data": {
      "text/plain": [
       "(18, 0)"
      ]
     },
     "metadata": {},
     "output_type": "display_data"
    },
    {
     "data": {
      "text/plain": [
       "0"
      ]
     },
     "metadata": {},
     "output_type": "display_data"
    }
   ],
   "source": [
    "primerNumero=input(\"Ingresa el valor 1: \")\n",
    "segundoNumero=input(\"Ingresa el valor 2: \")\n",
    "display(\"(Division entera, Residuo de la division)\")\n",
    "display(divmod(primerNumero,segundoNumero))\n",
    "display(primerNumero%segundoNumero)"
   ]
  },
  {
   "cell_type": "markdown",
   "metadata": {},
   "source": [
    "3. Escribe un programa que reciba un lado de un cuadrado y muestre su área, su perímetro y su diagonal. Piensa: ¿Y si tuviéramos que hacer lo mismo con un rectángulo?, modifica el programa anterior para que pueda aceptar también dicha figura."
   ]
  },
  {
   "cell_type": "code",
   "execution_count": 9,
   "metadata": {},
   "outputs": [
    {
     "name": "stdout",
     "output_type": "stream",
     "text": [
      "Ingrese un lado del cuadrado: 23\n"
     ]
    },
    {
     "data": {
      "text/plain": [
       "'Area del cuadrado: '"
      ]
     },
     "metadata": {},
     "output_type": "display_data"
    },
    {
     "data": {
      "text/plain": [
       "529"
      ]
     },
     "metadata": {},
     "output_type": "display_data"
    },
    {
     "data": {
      "text/plain": [
       "'Perimetro del cuadrado: '"
      ]
     },
     "metadata": {},
     "output_type": "display_data"
    },
    {
     "data": {
      "text/plain": [
       "92"
      ]
     },
     "metadata": {},
     "output_type": "display_data"
    }
   ],
   "source": [
    "ladoCuadrado=input(\"Ingrese un lado del cuadrado: \")\n",
    "display(\"Area del cuadrado: \",ladoCuadrado**2)\n",
    "display(\"Perimetro del cuadrado: \",ladoCuadrado*4)"
   ]
  }
 ],
 "metadata": {
  "kernelspec": {
   "display_name": "Python 2",
   "language": "python",
   "name": "python2"
  },
  "language_info": {
   "codemirror_mode": {
    "name": "ipython",
    "version": 2
   },
   "file_extension": ".py",
   "mimetype": "text/x-python",
   "name": "python",
   "nbconvert_exporter": "python",
   "pygments_lexer": "ipython2",
   "version": "2.7.15"
  }
 },
 "nbformat": 4,
 "nbformat_minor": 2
}
